{
 "cells": [
  {
   "cell_type": "code",
   "execution_count": 38,
   "metadata": {},
   "outputs": [
    {
     "ename": "SyntaxError",
     "evalue": "non-default argument follows default argument (<ipython-input-38-beb3ec2866ad>, line 3)",
     "output_type": "error",
     "traceback": [
      "\u001b[1;36m  File \u001b[1;32m\"<ipython-input-38-beb3ec2866ad>\"\u001b[1;36m, line \u001b[1;32m3\u001b[0m\n\u001b[1;33m    def mand(z_n=0,c,it=0):\u001b[0m\n\u001b[1;37m                     ^\u001b[0m\n\u001b[1;31mSyntaxError\u001b[0m\u001b[1;31m:\u001b[0m non-default argument follows default argument\n"
     ]
    }
   ],
   "source": [
    "z_0 = 0\n",
    "\n",
    "def mand(z_n=0,c,it=0):\n",
    "    if z_n> 2:\n",
    "        return False\n",
    "    if it == 200:\n",
    "        return True\n",
    "    z_n,c,it\n",
    "    return mand(z_n,c,it+1)\n",
    "\n"
   ]
  },
  {
   "cell_type": "markdown",
   "metadata": {},
   "source": [
    "Man wählt einen Punkt C aus der komplexen Ebene. C ist nun eine komplexe Zahl, mit dem Realteil als x-Koordinate und dem Imaginärteil als y-Koordinate: **c = x + i*y.**\n",
    "\n",
    "Die folgende Formel wird nun immer wieder auf Z angewendet:\n",
    "\n",
    "Z_n = Z_{n-1}^2 + x + i*y\n",
    "\n",
    "**ist z> 2 kann abgebrochen werden**\n",
    "**Zahlen in M sind alle schwarz**<br>\n",
    "**Farbe haben die Zahlen die nicht in M sind**<br>\n",
    "**Farbe basiert auf Anzahl der Iterationen bis Abbruch**<br>\n",
    "\n",
    "\n",
    "http://www.mathematische-basteleien.de/apfelmaennchen.html\n",
    "\n",
    "Setzt man komplexe Zahlen voraus, so heißt die Rekursionsformel der Folge zn+1=zn² + c. \n",
    "Dabei ist c=x1 + y1*i die Zahl, für die eine Farbe bestimmt werden soll.\n",
    "z0=0 ist die Anfangszahl. \n",
    "Die Folge ist |zn|. \n",
    "Da viele mit komplexen Zahlen nicht vertraut sind, wähle ich den Weg über die reellen Zahlen.\n",
    "Die folgenden Formeln werden für das Apfelmännchen verwendet. \n",
    "\n",
    "**xn+1 = xn²-yn² + x1 und yn+1 = 2*xn*yn+ y1 und an+1 = SQRT(xn+1² + yn+1²) mit n = 0,1,2,3,... und x0=y0=0**\n",
    "(SQRT = Wurzel aus)."
   ]
  },
  {
   "cell_type": "code",
   "execution_count": null,
   "metadata": {},
   "outputs": [
    {
     "ename": "TypeError",
     "evalue": "'float' object cannot be interpreted as an integer",
     "output_type": "error",
     "traceback": [
      "\u001b[1;31m---------------------------------------------------------------------------\u001b[0m",
      "\u001b[1;31mTypeError\u001b[0m                                 Traceback (most recent call last)",
      "\u001b[1;32m<ipython-input-31-edbf82ce0844>\u001b[0m in \u001b[0;36m<module>\u001b[1;34m\u001b[0m\n\u001b[0;32m     20\u001b[0m \u001b[0mx\u001b[0m \u001b[1;33m=\u001b[0m \u001b[1;36m0\u001b[0m\u001b[1;33m\u001b[0m\u001b[1;33m\u001b[0m\u001b[0m\n\u001b[0;32m     21\u001b[0m \u001b[0my\u001b[0m \u001b[1;33m=\u001b[0m \u001b[1;36m0\u001b[0m\u001b[1;33m\u001b[0m\u001b[1;33m\u001b[0m\u001b[0m\n\u001b[1;32m---> 22\u001b[1;33m \u001b[1;32mfor\u001b[0m \u001b[0mim\u001b[0m \u001b[1;32min\u001b[0m \u001b[0mrange\u001b[0m\u001b[1;33m(\u001b[0m\u001b[0mrect\u001b[0m\u001b[1;33m[\u001b[0m\u001b[1;34m're'\u001b[0m\u001b[1;33m]\u001b[0m\u001b[1;33m[\u001b[0m\u001b[1;36m0\u001b[0m\u001b[1;33m]\u001b[0m\u001b[1;33m,\u001b[0m\u001b[0mrect\u001b[0m\u001b[1;33m[\u001b[0m\u001b[1;34m're'\u001b[0m\u001b[1;33m]\u001b[0m\u001b[1;33m[\u001b[0m\u001b[1;36m1\u001b[0m\u001b[1;33m]\u001b[0m\u001b[1;33m,\u001b[0m\u001b[0mim_step\u001b[0m\u001b[1;33m)\u001b[0m\u001b[1;33m:\u001b[0m\u001b[1;33m\u001b[0m\u001b[1;33m\u001b[0m\u001b[0m\n\u001b[0m\u001b[0;32m     23\u001b[0m     \u001b[1;32mfor\u001b[0m \u001b[0mre\u001b[0m \u001b[1;32min\u001b[0m \u001b[0mrange\u001b[0m\u001b[1;33m(\u001b[0m\u001b[0mrect\u001b[0m\u001b[1;33m[\u001b[0m\u001b[1;34m'im'\u001b[0m\u001b[1;33m]\u001b[0m\u001b[1;33m[\u001b[0m\u001b[1;36m0\u001b[0m\u001b[1;33m]\u001b[0m\u001b[1;33m,\u001b[0m\u001b[0mrect\u001b[0m\u001b[1;33m[\u001b[0m\u001b[1;34m'im'\u001b[0m\u001b[1;33m]\u001b[0m\u001b[1;33m[\u001b[0m\u001b[1;36m1\u001b[0m\u001b[1;33m]\u001b[0m\u001b[1;33m,\u001b[0m\u001b[0mre_step\u001b[0m\u001b[1;33m)\u001b[0m\u001b[1;33m:\u001b[0m\u001b[1;33m\u001b[0m\u001b[1;33m\u001b[0m\u001b[0m\n\u001b[0;32m     24\u001b[0m         \u001b[0mz\u001b[0m \u001b[1;33m=\u001b[0m \u001b[1;36m0\u001b[0m\u001b[1;33m\u001b[0m\u001b[1;33m\u001b[0m\u001b[0m\n",
      "\u001b[1;31mTypeError\u001b[0m: 'float' object cannot be interpreted as an integer"
     ]
    }
   ],
   "source": [
    "import datetime\n",
    "from numpy import interp\n",
    "#DIN A4 ist 21 x 29,7\n",
    "# Höhe definiert \n",
    "max_iter = 4\n",
    "res_h = 20\n",
    "res_w = res_h*2\n",
    "rect = {\n",
    "    \"im\": [-1,1],\n",
    "    \"re\": [-2,2]\n",
    "}\n",
    "\n",
    "img = [[[0,0,0] for x in range(0,res_w)] for y in range(0,res_h)]\n",
    "\n",
    "x = 0\n",
    "y = 0\n",
    "for im in range(0,res_h):\n",
    "    for re in range(0,res_w):\n",
    "        im = interp(im, [0,res_h], rect['im'])\n",
    "        re = interp(re, [0,res_w], rect['re'])\n",
    "        z = 0\n",
    "        k = 0\n",
    "        while k < max_iter:\n",
    "            #mit n = 0,1,2,3,... und x0=y0=0\n",
    "\n",
    "            \n",
    "            im = 2 * re * im + im\n",
    "            re = re * re - im * im\n",
    "            z = re * re + im * im # z hoch 2\n",
    "            \n",
    "            k +=1\n",
    "            if z>4:\n",
    "                img[y][x] = [0,0,(k/max_iter)*255]\n",
    "                break\n",
    "\n",
    "\n",
    "        x + 1\n",
    "    \n",
    "    y + 1\n",
    "\n",
    "\n",
    "image = Image.fromarray(np.array(img).astype('uint8'),'RGB')\n",
    "\n",
    "\n",
    "image.save(\"mandelbrot\"+str(datetime.datetime.timestamp(datetime.datetime.now()))+\".png\")\n"
   ]
  },
  {
   "cell_type": "code",
   "execution_count": 39,
   "metadata": {},
   "outputs": [
    {
     "data": {
      "text/plain": [
       "'100.000000000000000000000000000000000000000000000000000000000000'"
      ]
     },
     "execution_count": 39,
     "metadata": {},
     "output_type": "execute_result"
    }
   ],
   "source": [
    "import decimal\n",
    "decimal.getcontext().prec = 100\n",
    "'{0:0.60f}'.format(decimal.getcontext().prec)"
   ]
  },
  {
   "cell_type": "code",
   "execution_count": 37,
   "metadata": {},
   "outputs": [
    {
     "name": "stdout",
     "output_type": "stream",
     "text": [
      "[[[0, 0, 200], [0, 0, 200]], [[0, 0, 200], [0, 0, 200]]]\n"
     ]
    }
   ],
   "source": [
    "import numpy as np \n",
    "from PIL import Image \n",
    "\n",
    "#array = np.random.randint(255, size=(400, 400),dtype=np.uint8)\n",
    "#print(array)\n",
    "\n",
    "array = []\n",
    "for row in range(0,2):\n",
    "    newrow = []\n",
    "    for column in range(0,2):\n",
    "        newrow.append([0,0,200])\n",
    "\n",
    "    array.append(newrow)\n",
    "print(array)\n",
    "image = Image.fromarray(np.array([[[0, 0, 200], [0, 0, 200]], [[0, 0, 200], [0, 0, 200]]]).astype('uint8'),'RGB')\n",
    "image.show() "
   ]
  },
  {
   "cell_type": "code",
   "execution_count": null,
   "metadata": {},
   "outputs": [],
   "source": [
    "[[[0, 0, 63.75], [0, 0, 0], [0, 0, 0], [0, 0, 0]], [[0, 0, 0], [0, 0, 0], [0, 0, 0], [0, 0, 0]]]"
   ]
  }
 ],
 "metadata": {
  "interpreter": {
   "hash": "ad3e8e2621e22e6c7f740c818ef3ce5c5373fc4ca08c1f4fa4e0f2df9a8b1fa4"
  },
  "kernelspec": {
   "display_name": "Python 3.9.6 64-bit",
   "language": "python",
   "name": "python3"
  },
  "language_info": {
   "codemirror_mode": {
    "name": "ipython",
    "version": 3
   },
   "file_extension": ".py",
   "mimetype": "text/x-python",
   "name": "python",
   "nbconvert_exporter": "python",
   "pygments_lexer": "ipython3",
   "version": "3.9.6"
  },
  "orig_nbformat": 4
 },
 "nbformat": 4,
 "nbformat_minor": 2
}
